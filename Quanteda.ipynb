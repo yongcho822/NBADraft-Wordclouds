{
 "cells": [
  {
   "cell_type": "code",
   "execution_count": null,
   "metadata": {
    "collapsed": true
   },
   "outputs": [],
   "source": [
    "#http://pnulty.github.io/\n",
    "\n",
    "\n",
    "> mycorpus1 <- corpus(textfile(\"SECDraftScouting.csv\", textField = \"Report\")) \n",
    "> mycorpus2 <- corpus(textfile(\"AllButUKDraftScouting.csv\", textField = \"Report\")) \n",
    "> docvars(mycorpus1, \"docset\") <- 1 \n",
    "> docvars(mycorpus2, \"docset\") <- 2 \n",
    "> myCombinedCorpus <- mycorpus1 + mycorpus2 \n",
    "\n",
    "> Dfm <- dfm(myCombinedCorpus, groups = \"docset\", ignoredFeatures = c(\"strengths\", \"weaknesses\", \"notes\", \"outlook\", \"David Ray\", \"Aran Smith\", \"Tajh Jenkins\", \"Adam Ganeles\", \"NBA\", \"comparison\", \"ball\", \"play\", \"also\", \"can\", \"even\", \"hes\", \"per\", \"plays\", \"around\", \"game\", \"basket\", \"basketball\", \"floor\", \"Jonathan Wasserman\", \"player\", \"2010\", \"2011\", \"2012\", \"2013\", \"2014\", \"2015\", \"will\", \"get\", \"ability\", stopwords(\"english\")), matrixType = \"dense\")\n",
    " \n",
    "> ratioThreshold <- 2.0\n",
    "> featureRatio <- Dfm[2, ] / Dfm[1, ]\n",
    "> DfmReduced <- Dfm[2, featureRatio >= ratioThreshold]\n",
    "\n",
    "> wordcloud(colnames(DfmReduced), colSums(DfmReduced), random.order = FALSE, max.words = 200, scale=c(2, 0.25), colors=brewer.pal(9, \"Blues\")[c(-1,-2,-3,-4)])\n",
    "\n"
   ]
  }
 ],
 "metadata": {
  "kernelspec": {
   "display_name": "Python 2",
   "language": "python",
   "name": "python2"
  },
  "language_info": {
   "codemirror_mode": {
    "name": "ipython",
    "version": 2
   },
   "file_extension": ".py",
   "mimetype": "text/x-python",
   "name": "python",
   "nbconvert_exporter": "python",
   "pygments_lexer": "ipython2",
   "version": "2.7.6"
  }
 },
 "nbformat": 4,
 "nbformat_minor": 0
}
