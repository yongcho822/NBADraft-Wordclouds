{
 "cells": [
  {
   "cell_type": "code",
   "execution_count": null,
   "metadata": {
    "collapsed": true
   },
   "outputs": [],
   "source": [
    "> install.packages(\"tm\")\n",
    "> install.packages(\"SnowballC\")\n",
    "> install.packages(\"wordcloud\")\n",
    "> install.packages(\"RColorBrewer\")\n",
    "> library(tm)\n",
    "> library(SnowballC)\n",
    "> library(wordcloud)\n",
    "> library(RColorBrewer)\n",
    "\n",
    "\n",
    "> UKDraft = read.csv(\"UKDraftScouting.csv\", stringsAsFactors=FALSE)\n",
    "> corpus = Corpus(VectorSource(UKDraft$Report))\n",
    "> corpus = tm_map(corpus, tolower)\n",
    "> corpus = tm_map(corpus, PlainTextDocument)\n",
    "> corpus = tm_map(corpus, removePunctuation)\n",
    "> corpus = tm_map(corpus, removeWords, c(\"strengths\", \"weaknesses\", \"notes\", \"outlook\", \"David Ray\", \"Aran Smith\", \"Tajh Jenkins\", \"Adam Ganeles\", \"NBA\", \"comparison\", \"ball\", \"play\", \"also\", \"can\", \"even\", \"hes\", \"per\", \"plays\", \"around\", \"game\", \"basket\", \"basketball\", \"floor\", \"kentucky\", \"wildcats\", \"Jonathan Wasserman\", \"cauleystein\", \"player\", \"725\", \"2015\", \"will\", \"get\", \"ability\", stopwords(\"english\")))\n",
    "> frequencies = DocumentTermMatrix(corpus)\n",
    "> allReports = as.data.frame(as.matrix(frequencies))\n",
    "> wordcloud(colnames(allReports), colSums(allReports), random.order = FALSE, max.words = 200, scale=c(2, 0.25), colors=brewer.pal(9, \"Blues\")[c(-1,-2,-3,-4,-5,-9)])"
   ]
  }
 ],
 "metadata": {
  "kernelspec": {
   "display_name": "Python 2",
   "language": "python",
   "name": "python2"
  },
  "language_info": {
   "codemirror_mode": {
    "name": "ipython",
    "version": 2
   },
   "file_extension": ".py",
   "mimetype": "text/x-python",
   "name": "python",
   "nbconvert_exporter": "python",
   "pygments_lexer": "ipython2",
   "version": "2.7.6"
  }
 },
 "nbformat": 4,
 "nbformat_minor": 0
}
